{
  "nbformat": 4,
  "nbformat_minor": 0,
  "metadata": {
    "colab": {
      "provenance": [],
      "authorship_tag": "ABX9TyM1t07xC9kslaWhlEqxTBsQ",
      "include_colab_link": true
    },
    "kernelspec": {
      "name": "python3",
      "display_name": "Python 3"
    },
    "language_info": {
      "name": "python"
    }
  },
  "cells": [
    {
      "cell_type": "markdown",
      "metadata": {
        "id": "view-in-github",
        "colab_type": "text"
      },
      "source": [
        "<a href=\"https://colab.research.google.com/github/VictorGambarini/Resbaz2024/blob/main/Resbaz2024.ipynb\" target=\"_parent\"><img src=\"https://colab.research.google.com/assets/colab-badge.svg\" alt=\"Open In Colab\"/></a>"
      ]
    },
    {
      "cell_type": "markdown",
      "source": [
        "# Resbaz 2024 Official Google Colab Notebook"
      ],
      "metadata": {
        "id": "U4Lu2N5BubHw"
      }
    },
    {
      "cell_type": "code",
      "execution_count": null,
      "metadata": {
        "id": "kr0qlYuisy4_"
      },
      "outputs": [],
      "source": [
        "# Run this cell to download all files\n",
        "!wget https://swcarpentry.github.io/python-novice-inflammation/data/python-novice-inflammation-data.zip\n",
        "!wget https://swcarpentry.github.io/python-novice-inflammation/files/code/python-novice-inflammation-code.zip\n",
        "!unzip python-novice-inflammation-code.zip\n",
        "!rm python-novice-inflammation-code.zip\n",
        "!unzip python-novice-inflammation-data.zip\n",
        "!rm python-novice-inflammation-data.zip"
      ]
    }
  ]
}